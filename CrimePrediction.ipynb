{
 "cells": [
  {
   "cell_type": "markdown",
   "metadata": {},
   "source": [
    "\n",
    "## Load Data"
   ]
  },
  {
   "cell_type": "code",
   "execution_count": 52,
   "metadata": {},
   "outputs": [],
   "source": [
    "import pandas as pd\n",
    "import numpy as np\n",
    "from sklearn.ensemble import RandomForestClassifier\n",
    "from sklearn.preprocessing import LabelEncoder\n",
    "import joblib\n",
    "import os\n"
   ]
  },
  {
   "cell_type": "code",
   "execution_count": 53,
   "metadata": {},
   "outputs": [],
   "source": [
    "# Load the CSV file\n",
    "df = pd.read_csv('Generate_Synthetic_Data.csv')\n"
   ]
  },
  {
   "cell_type": "code",
   "execution_count": 54,
   "metadata": {},
   "outputs": [
    {
     "data": {
      "text/html": [
       "<div>\n",
       "<style scoped>\n",
       "    .dataframe tbody tr th:only-of-type {\n",
       "        vertical-align: middle;\n",
       "    }\n",
       "\n",
       "    .dataframe tbody tr th {\n",
       "        vertical-align: top;\n",
       "    }\n",
       "\n",
       "    .dataframe thead th {\n",
       "        text-align: right;\n",
       "    }\n",
       "</style>\n",
       "<table border=\"1\" class=\"dataframe\">\n",
       "  <thead>\n",
       "    <tr style=\"text-align: right;\">\n",
       "      <th></th>\n",
       "      <th>timestamp</th>\n",
       "      <th>latitude</th>\n",
       "      <th>longitude</th>\n",
       "      <th>act379</th>\n",
       "      <th>act13</th>\n",
       "      <th>act279</th>\n",
       "      <th>act323</th>\n",
       "      <th>act363</th>\n",
       "      <th>act302</th>\n",
       "      <th>region</th>\n",
       "      <th>incident_type</th>\n",
       "      <th>loss_amount</th>\n",
       "    </tr>\n",
       "  </thead>\n",
       "  <tbody>\n",
       "    <tr>\n",
       "      <th>0</th>\n",
       "      <td>2019-01-01 08:26:00</td>\n",
       "      <td>26.577687</td>\n",
       "      <td>79.487584</td>\n",
       "      <td>0</td>\n",
       "      <td>0</td>\n",
       "      <td>1</td>\n",
       "      <td>0</td>\n",
       "      <td>0</td>\n",
       "      <td>0</td>\n",
       "      <td>Delhi</td>\n",
       "      <td>Phishing</td>\n",
       "      <td>103354.842558</td>\n",
       "    </tr>\n",
       "    <tr>\n",
       "      <th>1</th>\n",
       "      <td>2019-01-01 08:48:00</td>\n",
       "      <td>20.217247</td>\n",
       "      <td>76.481848</td>\n",
       "      <td>0</td>\n",
       "      <td>1</td>\n",
       "      <td>1</td>\n",
       "      <td>0</td>\n",
       "      <td>0</td>\n",
       "      <td>0</td>\n",
       "      <td>Hyderabad</td>\n",
       "      <td>Digital Arrest Scam</td>\n",
       "      <td>79171.432852</td>\n",
       "    </tr>\n",
       "    <tr>\n",
       "      <th>2</th>\n",
       "      <td>2019-01-01 14:03:00</td>\n",
       "      <td>14.844297</td>\n",
       "      <td>78.561454</td>\n",
       "      <td>0</td>\n",
       "      <td>0</td>\n",
       "      <td>0</td>\n",
       "      <td>0</td>\n",
       "      <td>0</td>\n",
       "      <td>0</td>\n",
       "      <td>Mumbai</td>\n",
       "      <td>Job Fraud</td>\n",
       "      <td>66107.247745</td>\n",
       "    </tr>\n",
       "    <tr>\n",
       "      <th>3</th>\n",
       "      <td>2019-01-02 04:59:00</td>\n",
       "      <td>17.220835</td>\n",
       "      <td>77.993437</td>\n",
       "      <td>0</td>\n",
       "      <td>0</td>\n",
       "      <td>0</td>\n",
       "      <td>0</td>\n",
       "      <td>0</td>\n",
       "      <td>0</td>\n",
       "      <td>Mumbai</td>\n",
       "      <td>Digital Arrest Scam</td>\n",
       "      <td>66122.680724</td>\n",
       "    </tr>\n",
       "    <tr>\n",
       "      <th>4</th>\n",
       "      <td>2019-01-02 11:42:00</td>\n",
       "      <td>26.215151</td>\n",
       "      <td>82.815567</td>\n",
       "      <td>0</td>\n",
       "      <td>0</td>\n",
       "      <td>0</td>\n",
       "      <td>0</td>\n",
       "      <td>0</td>\n",
       "      <td>0</td>\n",
       "      <td>Chennai</td>\n",
       "      <td>Investment Fraud</td>\n",
       "      <td>73162.758137</td>\n",
       "    </tr>\n",
       "  </tbody>\n",
       "</table>\n",
       "</div>"
      ],
      "text/plain": [
       "             timestamp   latitude  longitude  act379  act13  act279  act323  \\\n",
       "0  2019-01-01 08:26:00  26.577687  79.487584       0      0       1       0   \n",
       "1  2019-01-01 08:48:00  20.217247  76.481848       0      1       1       0   \n",
       "2  2019-01-01 14:03:00  14.844297  78.561454       0      0       0       0   \n",
       "3  2019-01-02 04:59:00  17.220835  77.993437       0      0       0       0   \n",
       "4  2019-01-02 11:42:00  26.215151  82.815567       0      0       0       0   \n",
       "\n",
       "   act363  act302     region        incident_type    loss_amount  \n",
       "0       0       0      Delhi             Phishing  103354.842558  \n",
       "1       0       0  Hyderabad  Digital Arrest Scam   79171.432852  \n",
       "2       0       0     Mumbai            Job Fraud   66107.247745  \n",
       "3       0       0     Mumbai  Digital Arrest Scam   66122.680724  \n",
       "4       0       0    Chennai     Investment Fraud   73162.758137  "
      ]
     },
     "execution_count": 54,
     "metadata": {},
     "output_type": "execute_result"
    }
   ],
   "source": [
    "df.head()"
   ]
  },
  {
   "cell_type": "code",
   "execution_count": 55,
   "metadata": {},
   "outputs": [
    {
     "data": {
      "text/html": [
       "<div>\n",
       "<style scoped>\n",
       "    .dataframe tbody tr th:only-of-type {\n",
       "        vertical-align: middle;\n",
       "    }\n",
       "\n",
       "    .dataframe tbody tr th {\n",
       "        vertical-align: top;\n",
       "    }\n",
       "\n",
       "    .dataframe thead th {\n",
       "        text-align: right;\n",
       "    }\n",
       "</style>\n",
       "<table border=\"1\" class=\"dataframe\">\n",
       "  <thead>\n",
       "    <tr style=\"text-align: right;\">\n",
       "      <th></th>\n",
       "      <th>timestamp</th>\n",
       "      <th>latitude</th>\n",
       "      <th>longitude</th>\n",
       "      <th>act379</th>\n",
       "      <th>act13</th>\n",
       "      <th>act279</th>\n",
       "      <th>act323</th>\n",
       "      <th>act363</th>\n",
       "      <th>act302</th>\n",
       "      <th>region</th>\n",
       "      <th>incident_type</th>\n",
       "      <th>loss_amount</th>\n",
       "    </tr>\n",
       "  </thead>\n",
       "  <tbody>\n",
       "    <tr>\n",
       "      <th>12780</th>\n",
       "      <td>2025-12-30 22:41:00</td>\n",
       "      <td>25.997550</td>\n",
       "      <td>88.150954</td>\n",
       "      <td>0</td>\n",
       "      <td>0</td>\n",
       "      <td>0</td>\n",
       "      <td>0</td>\n",
       "      <td>0</td>\n",
       "      <td>0</td>\n",
       "      <td>Chennai</td>\n",
       "      <td>Job Fraud</td>\n",
       "      <td>58076.124094</td>\n",
       "    </tr>\n",
       "    <tr>\n",
       "      <th>12781</th>\n",
       "      <td>2025-12-31 01:05:00</td>\n",
       "      <td>17.579562</td>\n",
       "      <td>82.909289</td>\n",
       "      <td>1</td>\n",
       "      <td>0</td>\n",
       "      <td>1</td>\n",
       "      <td>0</td>\n",
       "      <td>0</td>\n",
       "      <td>0</td>\n",
       "      <td>Delhi</td>\n",
       "      <td>Digital Arrest Scam</td>\n",
       "      <td>103726.133065</td>\n",
       "    </tr>\n",
       "    <tr>\n",
       "      <th>12782</th>\n",
       "      <td>2025-12-31 07:51:00</td>\n",
       "      <td>21.524544</td>\n",
       "      <td>82.684723</td>\n",
       "      <td>0</td>\n",
       "      <td>0</td>\n",
       "      <td>0</td>\n",
       "      <td>0</td>\n",
       "      <td>0</td>\n",
       "      <td>0</td>\n",
       "      <td>Hyderabad</td>\n",
       "      <td>Investment Fraud</td>\n",
       "      <td>92834.741080</td>\n",
       "    </tr>\n",
       "    <tr>\n",
       "      <th>12783</th>\n",
       "      <td>2025-12-31 08:01:00</td>\n",
       "      <td>17.264390</td>\n",
       "      <td>79.098852</td>\n",
       "      <td>0</td>\n",
       "      <td>0</td>\n",
       "      <td>0</td>\n",
       "      <td>1</td>\n",
       "      <td>0</td>\n",
       "      <td>0</td>\n",
       "      <td>Delhi</td>\n",
       "      <td>Phishing</td>\n",
       "      <td>83844.664301</td>\n",
       "    </tr>\n",
       "    <tr>\n",
       "      <th>12784</th>\n",
       "      <td>2025-12-31 09:36:00</td>\n",
       "      <td>27.912442</td>\n",
       "      <td>80.442308</td>\n",
       "      <td>1</td>\n",
       "      <td>0</td>\n",
       "      <td>0</td>\n",
       "      <td>0</td>\n",
       "      <td>0</td>\n",
       "      <td>0</td>\n",
       "      <td>Hyderabad</td>\n",
       "      <td>Phishing</td>\n",
       "      <td>82437.561672</td>\n",
       "    </tr>\n",
       "  </tbody>\n",
       "</table>\n",
       "</div>"
      ],
      "text/plain": [
       "                 timestamp   latitude  longitude  act379  act13  act279  \\\n",
       "12780  2025-12-30 22:41:00  25.997550  88.150954       0      0       0   \n",
       "12781  2025-12-31 01:05:00  17.579562  82.909289       1      0       1   \n",
       "12782  2025-12-31 07:51:00  21.524544  82.684723       0      0       0   \n",
       "12783  2025-12-31 08:01:00  17.264390  79.098852       0      0       0   \n",
       "12784  2025-12-31 09:36:00  27.912442  80.442308       1      0       0   \n",
       "\n",
       "       act323  act363  act302     region        incident_type    loss_amount  \n",
       "12780       0       0       0    Chennai            Job Fraud   58076.124094  \n",
       "12781       0       0       0      Delhi  Digital Arrest Scam  103726.133065  \n",
       "12782       0       0       0  Hyderabad     Investment Fraud   92834.741080  \n",
       "12783       1       0       0      Delhi             Phishing   83844.664301  \n",
       "12784       0       0       0  Hyderabad             Phishing   82437.561672  "
      ]
     },
     "execution_count": 55,
     "metadata": {},
     "output_type": "execute_result"
    }
   ],
   "source": [
    "df.tail()\n"
   ]
  },
  {
   "cell_type": "code",
   "execution_count": 56,
   "metadata": {},
   "outputs": [],
   "source": [
    "# Convert timestamp and drop invalid entries\n",
    "df['timestamp'] = pd.to_datetime(df['timestamp'], errors='coerce')\n",
    "df = df.dropna(subset=['timestamp', 'latitude', 'longitude'])\n"
   ]
  },
  {
   "cell_type": "code",
   "execution_count": 57,
   "metadata": {},
   "outputs": [],
   "source": [
    "# Extract features from timestamp\n",
    "column_1 = df['timestamp']\n",
    "DT = pd.DataFrame({\n",
    "    \"year\": column_1.dt.year,\n",
    "    \"month\": column_1.dt.month,\n",
    "    \"day\": column_1.dt.day,\n",
    "    \"hour\": column_1.dt.hour,\n",
    "    \"dayofyear\": column_1.dt.dayofyear,\n",
    "    \"week\": column_1.dt.isocalendar().week,\n",
    "    \"dayofweek\": column_1.dt.dayofweek,\n",
    "    \"weekday\": column_1.dt.weekday,\n",
    "    \"quarter\": column_1.dt.quarter\n",
    "})\n"
   ]
  },
  {
   "cell_type": "code",
   "execution_count": 58,
   "metadata": {},
   "outputs": [],
   "source": [
    "# Include latitude and longitude\n",
    "DT['latitude'] = df['latitude']\n",
    "DT['longitude'] = df['longitude']\n"
   ]
  },
  {
   "cell_type": "code",
   "execution_count": 59,
   "metadata": {},
   "outputs": [],
   "source": [
    "# Input features\n",
    "X = DT[['month', 'day', 'hour', 'dayofyear', 'dayofweek', 'latitude', 'longitude']]\n",
    "\n",
    "# Output labels (last 6 columns are crimes)\n",
    "Y = df.iloc[:, -6:]\n"
   ]
  },
  {
   "cell_type": "code",
   "execution_count": 60,
   "metadata": {},
   "outputs": [],
   "source": [
    "\n",
    "\n",
    "# Drop missing rows from X and align Y\n",
    "X = X.dropna()\n",
    "Y = Y.loc[X.index]\n",
    "\n",
    "# Use 'incident_type' as the target\n",
    "Y = Y['incident_type']\n",
    "\n",
    "# Encode string labels to integers\n",
    "le = LabelEncoder()\n",
    "Y = le.fit_transform(Y)\n"
   ]
  },
  {
   "cell_type": "code",
   "execution_count": 61,
   "metadata": {},
   "outputs": [
    {
     "data": {
      "text/plain": [
       "RandomForestClassifier()"
      ]
     },
     "execution_count": 61,
     "metadata": {},
     "output_type": "execute_result"
    }
   ],
   "source": [
    "model = RandomForestClassifier()\n",
    "model.fit(X, Y)\n"
   ]
  },
  {
   "cell_type": "code",
   "execution_count": 62,
   "metadata": {},
   "outputs": [
    {
     "data": {
      "text/plain": [
       "['model/rf_model']"
      ]
     },
     "execution_count": 62,
     "metadata": {},
     "output_type": "execute_result"
    }
   ],
   "source": [
    "# Save the model to a folder\n",
    "os.makedirs('model', exist_ok=True)\n",
    "joblib.dump(model, 'model/rf_model')\n"
   ]
  },
  {
   "cell_type": "code",
   "execution_count": null,
   "metadata": {},
   "outputs": [],
   "source": []
  }
 ],
 "metadata": {
  "anaconda-cloud": {},
  "kernelspec": {
   "display_name": "Python 3",
   "language": "python",
   "name": "python3"
  },
  "language_info": {
   "codemirror_mode": {
    "name": "ipython",
    "version": 3
   },
   "file_extension": ".py",
   "mimetype": "text/x-python",
   "name": "python",
   "nbconvert_exporter": "python",
   "pygments_lexer": "ipython3",
   "version": "3.7.0"
  }
 },
 "nbformat": 4,
 "nbformat_minor": 1
}
